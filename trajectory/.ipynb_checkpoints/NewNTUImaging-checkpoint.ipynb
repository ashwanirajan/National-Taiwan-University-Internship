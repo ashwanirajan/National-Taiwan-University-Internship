{
 "cells": [
  {
   "cell_type": "code",
   "execution_count": 1,
   "metadata": {},
   "outputs": [],
   "source": [
    "import matplotlib.pyplot as plt\n",
    "import numpy as np\n",
    "import pylab\n",
    "import pandas as pd\n",
    "\n",
    "\n"
   ]
  },
  {
   "cell_type": "code",
   "execution_count": 4,
   "metadata": {},
   "outputs": [],
   "source": [
    "## Read binary data\n",
    "data = np.fromfile('data_p1.bin',dtype='double')  \n",
    "## Reshape the array\n",
    "data = np.reshape(data,(120,3))\n",
    "data_df = pd.DataFrame(data, columns = [\"x\",\"y\",\"z\"])\n",
    "data_df.to_csv(\"actual_data\")"
   ]
  },
  {
   "cell_type": "code",
   "execution_count": null,
   "metadata": {},
   "outputs": [],
   "source": [
    "data1 = np.array(data)\n",
    "#print(data1)\n",
    "## visualize the 2D array\n",
    "fig = plt.figure(1)\n",
    "ax = fig.add_subplot(111, axisbg='black')\n",
    "#pylab.ylim([0,520])\n",
    "#pylab.xlim([0,520])\n",
    "ax.scatter(data1[:,0], data1[:,1], c = \"white\")\n",
    "plt.savefig('img.png')\n",
    "fig.canvas.draw()\n",
    "plt.show()"
   ]
  }
 ],
 "metadata": {
  "kernelspec": {
   "display_name": "Python 3",
   "language": "python",
   "name": "python3"
  },
  "language_info": {
   "codemirror_mode": {
    "name": "ipython",
    "version": 3
   },
   "file_extension": ".py",
   "mimetype": "text/x-python",
   "name": "python",
   "nbconvert_exporter": "python",
   "pygments_lexer": "ipython3",
   "version": "3.7.3"
  }
 },
 "nbformat": 4,
 "nbformat_minor": 2
}
