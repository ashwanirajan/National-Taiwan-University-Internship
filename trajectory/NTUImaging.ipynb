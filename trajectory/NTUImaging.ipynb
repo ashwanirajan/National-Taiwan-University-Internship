{
 "cells": [
  {
   "cell_type": "code",
   "execution_count": 6,
   "metadata": {},
   "outputs": [],
   "source": [
    "import numpy as np\n",
    "import matplotlib.pyplot as plt\n",
    "import seaborn as sns\n",
    "import pandas as pd"
   ]
  },
  {
   "cell_type": "code",
   "execution_count": 16,
   "metadata": {},
   "outputs": [
    {
     "data": {
      "text/plain": [
       "(120, 7)"
      ]
     },
     "execution_count": 16,
     "metadata": {},
     "output_type": "execute_result"
    }
   ],
   "source": [
    "data = pd.read_csv(\"actual_data.csv\")\n",
    "\n",
    "data.head()\n",
    "data.shape"
   ]
  },
  {
   "cell_type": "code",
   "execution_count": 19,
   "metadata": {},
   "outputs": [
    {
     "data": {
      "text/plain": [
       "<Figure size 1440x1440 with 0 Axes>"
      ]
     },
     "metadata": {},
     "output_type": "display_data"
    }
   ],
   "source": [
    "z =30\n",
    "for i in range(len(data)):\n",
    "    \n",
    "    fig = plt.figure(1, figsize = (20,20))\n",
    "    ax = fig.add_subplot(111, facecolor='black')\n",
    "    #pylab.ylim([0,520])\n",
    "    #pylab.xlim([0,520])\n",
    "    ax.scatter(data.X[:i], data.Y[:i], s = 20, c = \"white\")\n",
    "    ax.text(data.X[i], data.Y[i],s= \"A\",size = 25, c = \"white\")\n",
    "    if i <= 130:\n",
    "        ax.scatter(data.C_X[:i], data.C_Y[:i], s = 10, c = \"white\")\n",
    "        ax.text(data.C_X[i]-z*data.C_X[i]/abs(data.C_X[i]), data.C_Y[i] - z*data.C_Y[i]/abs(data.C_Y[i]),s= \"B\",size = 25, c = \"white\")\n",
    "    else:\n",
    "        ax.scatter(data.C_X[:130], data.C_Y[:130], s = 10, c = \"white\")\n",
    "        ax.text(data.C_X[i]-z*data.C_X[i]/abs(data.C_X[i]), data.C_Y[i]- z*data.C_Y[i]/abs(data.C_Y[i]),s= \"B\",size = 25, c = \"white\")\n",
    "        ax.scatter(data.C_X[131:i], data.C_Y[131:i], s = 10, c = \"white\")\n",
    "        ax.text(data.C_X[i]-z*data.C_X[i]/abs(data.C_X[i]), data.C_Y[i]- z*data.C_Y[i]/abs(data.C_Y[i]),s= \"B\",size = 25, c = \"white\")\n",
    "    ax.grid(False)\n",
    "    ax.tick_params(labelsize = 20)\n",
    "    plt.ylim(ymax = 1256, ymin = -1000+256)\n",
    "    plt.xlim(xmax = 1256, xmin = -1000+256)    \n",
    "    plt.savefig('img_%d.png'%(i),bbox_inches='tight')\n",
    "    plt.clf()\n",
    "    #fig.canvas.draw()\n",
    "    #plt.show()"
   ]
  },
  {
   "cell_type": "code",
   "execution_count": null,
   "metadata": {},
   "outputs": [],
   "source": [
    "\n"
   ]
  },
  {
   "cell_type": "code",
   "execution_count": null,
   "metadata": {},
   "outputs": [],
   "source": []
  }
 ],
 "metadata": {
  "kernelspec": {
   "display_name": "Python 3",
   "language": "python",
   "name": "python3"
  },
  "language_info": {
   "codemirror_mode": {
    "name": "ipython",
    "version": 3
   },
   "file_extension": ".py",
   "mimetype": "text/x-python",
   "name": "python",
   "nbconvert_exporter": "python",
   "pygments_lexer": "ipython3",
   "version": "3.7.3"
  }
 },
 "nbformat": 4,
 "nbformat_minor": 2
}
